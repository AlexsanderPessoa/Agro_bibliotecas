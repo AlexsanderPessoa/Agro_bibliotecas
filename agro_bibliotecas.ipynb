{
  "nbformat": 4,
  "nbformat_minor": 0,
  "metadata": {
    "colab": {
      "provenance": [],
      "authorship_tag": "ABX9TyNdtLEP2wuIeRKfZYclZZk4",
      "include_colab_link": true
    },
    "kernelspec": {
      "name": "python3",
      "display_name": "Python 3"
    },
    "language_info": {
      "name": "python"
    }
  },
  "cells": [
    {
      "cell_type": "markdown",
      "metadata": {
        "id": "view-in-github",
        "colab_type": "text"
      },
      "source": [
        "<a href=\"https://colab.research.google.com/github/AlexsanderPessoa/Agro_bibliotecas/blob/main/agro_bibliotecas.ipynb\" target=\"_parent\"><img src=\"https://colab.research.google.com/assets/colab-badge.svg\" alt=\"Open In Colab\"/></a>"
      ]
    },
    {
      "cell_type": "code",
      "execution_count": 2,
      "metadata": {
        "colab": {
          "base_uri": "https://localhost:8080/"
        },
        "id": "C2uYEBrMTl2Z",
        "outputId": "c1bf7dbc-a597-4819-90a1-82e06d5ff3c1"
      },
      "outputs": [
        {
          "output_type": "stream",
          "name": "stdout",
          "text": [
            "3.4339872044851463\n",
            "4.954196310386876\n"
          ]
        }
      ],
      "source": [
        "import math\n",
        "\n",
        "#logaritmo natural\n",
        "print(math.log(31))\n",
        "\n",
        "#especificando a base\n",
        "print(math.log(31, 2))"
      ]
    },
    {
      "cell_type": "code",
      "source": [
        "#constantes\n",
        "print(math.pi)\n",
        "print(math.e)\n",
        "print(math.inf)\n",
        "print(math.nan)\n"
      ],
      "metadata": {
        "colab": {
          "base_uri": "https://localhost:8080/"
        },
        "id": "7g7Ny1-tVaIh",
        "outputId": "a54eebeb-ab95-480f-b374-e7b0a2e14fdd"
      },
      "execution_count": 4,
      "outputs": [
        {
          "output_type": "stream",
          "name": "stdout",
          "text": [
            "3.141592653589793\n",
            "2.718281828459045\n",
            "inf\n",
            "nan\n"
          ]
        }
      ]
    },
    {
      "cell_type": "code",
      "source": [
        "#eu só quero importat uma parte, e não toda a biblioteca, isso otimiza a memória\n",
        "from math import pi\n",
        "print(pi)"
      ],
      "metadata": {
        "colab": {
          "base_uri": "https://localhost:8080/"
        },
        "id": "oDCG0n0pVw0f",
        "outputId": "19960ab4-a1ce-4222-d29c-a6b466203da8"
      },
      "execution_count": 5,
      "outputs": [
        {
          "output_type": "stream",
          "name": "stdout",
          "text": [
            "3.141592653589793\n"
          ]
        }
      ]
    },
    {
      "cell_type": "code",
      "source": [
        "from math import log, sqrt\n",
        "print(log(1001, 3))\n",
        "print(sqrt(400))"
      ],
      "metadata": {
        "colab": {
          "base_uri": "https://localhost:8080/"
        },
        "id": "egVX9KtSV3en",
        "outputId": "80194944-baaa-49a7-dd5d-a8d79f4f79da"
      },
      "execution_count": 7,
      "outputs": [
        {
          "output_type": "stream",
          "name": "stdout",
          "text": [
            "6.288619607278353\n",
            "20.0\n"
          ]
        }
      ]
    },
    {
      "cell_type": "markdown",
      "source": [
        "#metodo random\n"
      ],
      "metadata": {
        "id": "RwpYimBoWXVb"
      }
    },
    {
      "cell_type": "code",
      "source": [
        "import random as rd"
      ],
      "metadata": {
        "id": "wblI6uUyV3vm"
      },
      "execution_count": 8,
      "outputs": []
    },
    {
      "cell_type": "code",
      "source": [
        "#aleatório de 0 e 1\n",
        "print(rd.random())"
      ],
      "metadata": {
        "colab": {
          "base_uri": "https://localhost:8080/"
        },
        "id": "ekyiIZEBWcod",
        "outputId": "c518416f-d54c-42b4-ac60-067a9e1810b9"
      },
      "execution_count": 9,
      "outputs": [
        {
          "output_type": "stream",
          "name": "stdout",
          "text": [
            "0.7529992811732154\n"
          ]
        }
      ]
    },
    {
      "cell_type": "code",
      "source": [
        "#crio uma lista\n",
        "num_alert = []\n",
        "#para cada item dessa lista, de até 5 objetos\n",
        "for i in range(5):\n",
        "    #eu adiciono esse valor nessa lista, até dar 5 valores aleatórios de 0 a 1\n",
        "    num_alert.append(rd.random())\n",
        "\n",
        "print(num_alert)"
      ],
      "metadata": {
        "colab": {
          "base_uri": "https://localhost:8080/"
        },
        "id": "IXa9n1rnWc1x",
        "outputId": "c7076ca7-fed7-4f94-c72c-4c676956a352"
      },
      "execution_count": 12,
      "outputs": [
        {
          "output_type": "stream",
          "name": "stdout",
          "text": [
            "[0.2157272306203002, 0.08063552475196412, 0.0665797623275407, 0.08046022616202686, 0.9862104360990643]\n"
          ]
        }
      ]
    },
    {
      "cell_type": "code",
      "source": [
        "numeros = [111, 222, 333, 444, 555, 666, 777, 888, 999]"
      ],
      "metadata": {
        "id": "BwIsld21XwvG"
      },
      "execution_count": 13,
      "outputs": []
    },
    {
      "cell_type": "code",
      "source": [
        "#sorteia dentro da minha lista 4 números aleatórios\n",
        "print(rd.sample(numeros, 4))"
      ],
      "metadata": {
        "colab": {
          "base_uri": "https://localhost:8080/"
        },
        "id": "Jupitx1-Xw4F",
        "outputId": "e1fad9f6-3792-4039-8f22-d92f345de143"
      },
      "execution_count": 14,
      "outputs": [
        {
          "output_type": "stream",
          "name": "stdout",
          "text": [
            "[222, 888, 666, 111]\n"
          ]
        }
      ]
    },
    {
      "cell_type": "code",
      "source": [
        "#embaralhe minha lista\n",
        "rd.shuffle(numeros)\n",
        "print(numeros)"
      ],
      "metadata": {
        "colab": {
          "base_uri": "https://localhost:8080/"
        },
        "id": "Om3T7uaLXw_P",
        "outputId": "b942f141-f019-4dc6-c07d-a731120aa863"
      },
      "execution_count": 16,
      "outputs": [
        {
          "output_type": "stream",
          "name": "stdout",
          "text": [
            "[111, 333, 777, 999, 222, 555, 444, 666, 888]\n"
          ]
        }
      ]
    },
    {
      "cell_type": "code",
      "source": [
        "numeros"
      ],
      "metadata": {
        "colab": {
          "base_uri": "https://localhost:8080/"
        },
        "id": "Rb3TNFAcXxGl",
        "outputId": "fe09dacb-8f70-466e-892a-6d3d6fe8b048"
      },
      "execution_count": 17,
      "outputs": [
        {
          "output_type": "execute_result",
          "data": {
            "text/plain": [
              "[111, 333, 777, 999, 222, 555, 444, 666, 888]"
            ]
          },
          "metadata": {},
          "execution_count": 17
        }
      ]
    },
    {
      "cell_type": "code",
      "source": [],
      "metadata": {
        "id": "cOiyUmeeXxNx"
      },
      "execution_count": null,
      "outputs": []
    }
  ]
}